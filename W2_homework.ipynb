{
  "nbformat": 4,
  "nbformat_minor": 0,
  "metadata": {
    "colab": {
      "provenance": [],
      "collapsed_sections": []
    },
    "kernelspec": {
      "name": "python3",
      "display_name": "Python 3"
    },
    "language_info": {
      "name": "python"
    }
  },
  "cells": [
    {
      "cell_type": "code",
      "execution_count": 1,
      "metadata": {
        "id": "AZhEo7hRDvwC"
      },
      "outputs": [],
      "source": [
        "import numpy as np\n",
        "import tensorflow as tf\n",
        "import tensorflow.keras as keras"
      ]
    },
    {
      "cell_type": "code",
      "source": [
        "(xr,yr), (xt,yt)= keras.datasets.mnist.load_data()"
      ],
      "metadata": {
        "colab": {
          "base_uri": "https://localhost:8080/"
        },
        "id": "SBFBHcoSD8qE",
        "outputId": "d757540a-b61d-45cf-a8ba-4b8019ef702f"
      },
      "execution_count": 2,
      "outputs": [
        {
          "output_type": "stream",
          "name": "stdout",
          "text": [
            "Downloading data from https://storage.googleapis.com/tensorflow/tf-keras-datasets/mnist.npz\n",
            "11493376/11490434 [==============================] - 0s 0us/step\n",
            "11501568/11490434 [==============================] - 0s 0us/step\n"
          ]
        }
      ]
    },
    {
      "cell_type": "code",
      "source": [
        "xr.shape, yr.shape, xt.shape, yt.shape"
      ],
      "metadata": {
        "colab": {
          "base_uri": "https://localhost:8080/"
        },
        "id": "PTWKIsDND9vm",
        "outputId": "d99d0134-6626-4640-8b33-9675ab7f0b31"
      },
      "execution_count": 3,
      "outputs": [
        {
          "output_type": "execute_result",
          "data": {
            "text/plain": [
              "((60000, 28, 28), (60000,), (10000, 28, 28), (10000,))"
            ]
          },
          "metadata": {},
          "execution_count": 3
        }
      ]
    },
    {
      "cell_type": "code",
      "source": [
        "x= xr[1]\n",
        "#%%\n",
        "for i in range(28):\n",
        "    for j in range(28):\n",
        "        z= x[i,j]\n",
        "        print(f'{z:3d}', end='')\n",
        "    print()"
      ],
      "metadata": {
        "colab": {
          "base_uri": "https://localhost:8080/"
        },
        "id": "1wG2dPguD98Q",
        "outputId": "0acf54a8-9757-45a4-9f16-4212e5bc6287"
      },
      "execution_count": 4,
      "outputs": [
        {
          "output_type": "stream",
          "name": "stdout",
          "text": [
            "  0  0  0  0  0  0  0  0  0  0  0  0  0  0  0  0  0  0  0  0  0  0  0  0  0  0  0  0\n",
            "  0  0  0  0  0  0  0  0  0  0  0  0  0  0  0  0  0  0  0  0  0  0  0  0  0  0  0  0\n",
            "  0  0  0  0  0  0  0  0  0  0  0  0  0  0  0  0  0  0  0  0  0  0  0  0  0  0  0  0\n",
            "  0  0  0  0  0  0  0  0  0  0  0  0  0  0  0  0  0  0  0  0  0  0  0  0  0  0  0  0\n",
            "  0  0  0  0  0  0  0  0  0  0  0  0  0  0  0 51159253159 50  0  0  0  0  0  0  0  0\n",
            "  0  0  0  0  0  0  0  0  0  0  0  0  0  0 48238252252252237  0  0  0  0  0  0  0  0\n",
            "  0  0  0  0  0  0  0  0  0  0  0  0  0 54227253252239233252 57  6  0  0  0  0  0  0\n",
            "  0  0  0  0  0  0  0  0  0  0  0 10 60224252253252202 84252253122  0  0  0  0  0  0\n",
            "  0  0  0  0  0  0  0  0  0  0  0163252252252253252252 96189253167  0  0  0  0  0  0\n",
            "  0  0  0  0  0  0  0  0  0  0 51238253253190114253228 47 79255168  0  0  0  0  0  0\n",
            "  0  0  0  0  0  0  0  0  0 48238252252179 12 75121 21  0  0253243 50  0  0  0  0  0\n",
            "  0  0  0  0  0  0  0  0 38165253233208 84  0  0  0  0  0  0253252165  0  0  0  0  0\n",
            "  0  0  0  0  0  0  0  7178252240 71 19 28  0  0  0  0  0  0253252195  0  0  0  0  0\n",
            "  0  0  0  0  0  0  0 57252252 63  0  0  0  0  0  0  0  0  0253252195  0  0  0  0  0\n",
            "  0  0  0  0  0  0  0198253190  0  0  0  0  0  0  0  0  0  0255253196  0  0  0  0  0\n",
            "  0  0  0  0  0  0 76246252112  0  0  0  0  0  0  0  0  0  0253252148  0  0  0  0  0\n",
            "  0  0  0  0  0  0 85252230 25  0  0  0  0  0  0  0  0  7135253186 12  0  0  0  0  0\n",
            "  0  0  0  0  0  0 85252223  0  0  0  0  0  0  0  0  7131252225 71  0  0  0  0  0  0\n",
            "  0  0  0  0  0  0 85252145  0  0  0  0  0  0  0 48165252173  0  0  0  0  0  0  0  0\n",
            "  0  0  0  0  0  0 86253225  0  0  0  0  0  0114238253162  0  0  0  0  0  0  0  0  0\n",
            "  0  0  0  0  0  0 85252249146 48 29 85178225253223167 56  0  0  0  0  0  0  0  0  0\n",
            "  0  0  0  0  0  0 85252252252229215252252252196130  0  0  0  0  0  0  0  0  0  0  0\n",
            "  0  0  0  0  0  0 28199252252253252252233145  0  0  0  0  0  0  0  0  0  0  0  0  0\n",
            "  0  0  0  0  0  0  0 25128252253252141 37  0  0  0  0  0  0  0  0  0  0  0  0  0  0\n",
            "  0  0  0  0  0  0  0  0  0  0  0  0  0  0  0  0  0  0  0  0  0  0  0  0  0  0  0  0\n",
            "  0  0  0  0  0  0  0  0  0  0  0  0  0  0  0  0  0  0  0  0  0  0  0  0  0  0  0  0\n",
            "  0  0  0  0  0  0  0  0  0  0  0  0  0  0  0  0  0  0  0  0  0  0  0  0  0  0  0  0\n",
            "  0  0  0  0  0  0  0  0  0  0  0  0  0  0  0  0  0  0  0  0  0  0  0  0  0  0  0  0\n"
          ]
        }
      ]
    },
    {
      "cell_type": "code",
      "source": [
        "import matplotlib.pyplot as pl\n",
        "pl.imshow(x)"
      ],
      "metadata": {
        "colab": {
          "base_uri": "https://localhost:8080/",
          "height": 282
        },
        "id": "MFVX3WDkD-Iy",
        "outputId": "dd7dc152-9261-4281-8ad8-0173043ff155"
      },
      "execution_count": 5,
      "outputs": [
        {
          "output_type": "execute_result",
          "data": {
            "text/plain": [
              "<matplotlib.image.AxesImage at 0x7f04187d2f50>"
            ]
          },
          "metadata": {},
          "execution_count": 5
        },
        {
          "output_type": "display_data",
          "data": {
            "text/plain": [
              "<Figure size 432x288 with 1 Axes>"
            ],
            "image/png": "[encoded data removed]"
          },
          "metadata": {
            "needs_background": "light"
          }
        }
      ]
    },
    {
      "cell_type": "code",
      "source": [
        "xr1= xr.reshape(-1, 28*28) \n",
        "xt1= xt.reshape(-1, 28*28)"
      ],
      "metadata": {
        "id": "rAKqSlZsEH47"
      },
      "execution_count": 7,
      "outputs": []
    },
    {
      "cell_type": "code",
      "source": [
        "aModel= keras.Sequential([\n",
        "    keras.Input(28*28),\n",
        "    keras.layers.Dense(100),    \n",
        "    keras.layers.Dense(10)   \n",
        "    ])\n",
        "\n",
        "aModel.compile(\n",
        "    loss=     'sparse_categorical_crossentropy',\n",
        "    metrics= ['accuracy']\n",
        "    )"
      ],
      "metadata": {
        "id": "Up20RSCGEIDw"
      },
      "execution_count": 12,
      "outputs": []
    },
    {
      "cell_type": "code",
      "source": [
        "aModel.summary()\n",
        "\n",
        "keras.utils.plot_model(aModel, \n",
        "    show_shapes= True, \n",
        "    show_layer_activations= True)"
      ],
      "metadata": {
        "colab": {
          "base_uri": "https://localhost:8080/",
          "height": 538
        },
        "id": "cpJnkoKxFhby",
        "outputId": "90c2ed98-92a3-4a5b-a4d6-ceae53e7efdc"
      },
      "execution_count": 13,
      "outputs": [
        {
          "output_type": "stream",
          "name": "stdout",
          "text": [
            "Model: \"sequential\"\n",
            "_________________________________________________________________\n",
            " Layer (type)                Output Shape              Param #   \n",
            "=================================================================\n",
            " dense (Dense)               (None, 100)               78500     \n",
            "                                                                 \n",
            " dense_1 (Dense)             (None, 10)                1010      \n",
            "                                                                 \n",
            "=================================================================\n",
            "Total params: 79,510\n",
            "Trainable params: 79,510\n",
            "Non-trainable params: 0\n",
            "_________________________________________________________________\n"
          ]
        },
        {
          "output_type": "execute_result",
          "data": {
            "image/png": "[encoded data removed]",
            "text/plain": [
              "<IPython.core.display.Image object>"
            ]
          },
          "metadata": {},
          "execution_count": 13
        }
      ]
    },
    {
      "cell_type": "code",
      "source": [
        "aModel.fit(xr1, yr, \n",
        "           epochs= 10, \n",
        "           batch_size= 100)\n",
        "\n",
        "aModel.evaluate(xt1, yt)"
      ],
      "metadata": {
        "colab": {
          "base_uri": "https://localhost:8080/"
        },
        "id": "tU01gP8HFhsU",
        "outputId": "12709ade-aa08-4306-9e39-9c26bfa08c55"
      },
      "execution_count": 14,
      "outputs": [
        {
          "output_type": "stream",
          "name": "stdout",
          "text": [
            "Epoch 1/10\n",
            "600/600 [==============================] - 4s 6ms/step - loss: 7.5082 - accuracy: 0.2169\n",
            "Epoch 2/10\n",
            "600/600 [==============================] - 4s 6ms/step - loss: 2.2272 - accuracy: 0.2542\n",
            "Epoch 3/10\n",
            "600/600 [==============================] - 4s 6ms/step - loss: 2.2175 - accuracy: 0.2620\n",
            "Epoch 4/10\n",
            "600/600 [==============================] - 3s 5ms/step - loss: 2.2223 - accuracy: 0.2728\n",
            "Epoch 5/10\n",
            "600/600 [==============================] - 3s 6ms/step - loss: 2.2055 - accuracy: 0.3122\n",
            "Epoch 6/10\n",
            "600/600 [==============================] - 4s 6ms/step - loss: 2.1174 - accuracy: 0.2854\n",
            "Epoch 7/10\n",
            "600/600 [==============================] - 3s 5ms/step - loss: 2.1516 - accuracy: 0.2747\n",
            "Epoch 8/10\n",
            "600/600 [==============================] - 3s 5ms/step - loss: 2.1177 - accuracy: 0.2784\n",
            "Epoch 9/10\n",
            "600/600 [==============================] - 4s 6ms/step - loss: 2.1899 - accuracy: 0.2764\n",
            "Epoch 10/10\n",
            "600/600 [==============================] - 3s 6ms/step - loss: 2.1083 - accuracy: 0.2626\n",
            "313/313 [==============================] - 1s 3ms/step - loss: 2.0929 - accuracy: 0.2650\n"
          ]
        },
        {
          "output_type": "execute_result",
          "data": {
            "text/plain": [
              "[2.0929133892059326, 0.26499998569488525]"
            ]
          },
          "metadata": {},
          "execution_count": 14
        }
      ]
    },
    {
      "cell_type": "code",
      "source": [
        "aModel= keras.Sequential([\n",
        "    keras.Input(28*28),\n",
        "    keras.layers.Dense(200, activation= 'relu'),    \n",
        "    keras.layers.Dense(10,  activation= 'softmax')\n",
        "    ])\n",
        "\n",
        "aModel.compile(\n",
        "    loss=     'sparse_categorical_crossentropy',\n",
        "    metrics= ['accuracy']\n",
        "    )\n",
        "\n",
        "aModel.fit(xr1, yr, \n",
        "           epochs= 10, \n",
        "           batch_size= 100)\n",
        "\n",
        "aModel.evaluate(xt1, yt)"
      ],
      "metadata": {
        "colab": {
          "base_uri": "https://localhost:8080/"
        },
        "id": "lWBHs0UDK3Ry",
        "outputId": "4cc33d4f-5295-4c71-851d-cf59ac35fad1"
      },
      "execution_count": 24,
      "outputs": [
        {
          "output_type": "stream",
          "name": "stdout",
          "text": [
            "Epoch 1/10\n",
            "600/600 [==============================] - 4s 6ms/step - loss: 3.8541 - accuracy: 0.8815\n",
            "Epoch 2/10\n",
            "600/600 [==============================] - 4s 6ms/step - loss: 0.5376 - accuracy: 0.9343\n",
            "Epoch 3/10\n",
            "600/600 [==============================] - 3s 5ms/step - loss: 0.3558 - accuracy: 0.9520\n",
            "Epoch 4/10\n",
            "600/600 [==============================] - 4s 6ms/step - loss: 0.2978 - accuracy: 0.9617\n",
            "Epoch 5/10\n",
            "600/600 [==============================] - 4s 7ms/step - loss: 0.2566 - accuracy: 0.9668\n",
            "Epoch 6/10\n",
            "600/600 [==============================] - 3s 6ms/step - loss: 0.2205 - accuracy: 0.9708\n",
            "Epoch 7/10\n",
            "600/600 [==============================] - 3s 6ms/step - loss: 0.2100 - accuracy: 0.9743\n",
            "Epoch 8/10\n",
            "600/600 [==============================] - 3s 5ms/step - loss: 0.1898 - accuracy: 0.9767\n",
            "Epoch 9/10\n",
            "600/600 [==============================] - 3s 5ms/step - loss: 0.1778 - accuracy: 0.9792\n",
            "Epoch 10/10\n",
            "600/600 [==============================] - 3s 6ms/step - loss: 0.1568 - accuracy: 0.9815\n",
            "313/313 [==============================] - 1s 2ms/step - loss: 0.4738 - accuracy: 0.9666\n"
          ]
        },
        {
          "output_type": "execute_result",
          "data": {
            "text/plain": [
              "[0.47384965419769287, 0.9666000008583069]"
            ]
          },
          "metadata": {},
          "execution_count": 24
        }
      ]
    },
    {
      "cell_type": "code",
      "source": [
        "aModel= keras.Sequential([\n",
        "    keras.Input(28*28),\n",
        "    keras.layers.Dense(100, activation= 'relu'), \n",
        "    keras.layers.Dense(200, activation= 'relu'), \n",
        "    keras.layers.Dense(10,  activation= 'softmax')\n",
        "    ])\n",
        "\n",
        "aModel.compile(\n",
        "    loss=     'sparse_categorical_crossentropy',\n",
        "    metrics= ['accuracy']\n",
        "    )\n",
        "\n",
        "aModel.fit(xr1, yr, \n",
        "           epochs= 10, \n",
        "           batch_size= 100)\n",
        "\n",
        "aModel.evaluate(xt1, yt)"
      ],
      "metadata": {
        "colab": {
          "base_uri": "https://localhost:8080/"
        },
        "id": "ZxFI5AcIKNfA",
        "outputId": "2511dcd2-f822-4826-bffc-7e3c8c7fd5ca"
      },
      "execution_count": 25,
      "outputs": [
        {
          "output_type": "stream",
          "name": "stdout",
          "text": [
            "Epoch 1/10\n",
            "600/600 [==============================] - 4s 5ms/step - loss: 1.9570 - accuracy: 0.8630\n",
            "Epoch 2/10\n",
            "600/600 [==============================] - 3s 5ms/step - loss: 0.4317 - accuracy: 0.9264\n",
            "Epoch 3/10\n",
            "600/600 [==============================] - 3s 5ms/step - loss: 0.2951 - accuracy: 0.9454\n",
            "Epoch 4/10\n",
            "600/600 [==============================] - 3s 5ms/step - loss: 0.2402 - accuracy: 0.9547\n",
            "Epoch 5/10\n",
            "600/600 [==============================] - 3s 5ms/step - loss: 0.1807 - accuracy: 0.9636\n",
            "Epoch 6/10\n",
            "600/600 [==============================] - 3s 6ms/step - loss: 0.1542 - accuracy: 0.9672\n",
            "Epoch 7/10\n",
            "600/600 [==============================] - 3s 5ms/step - loss: 0.1313 - accuracy: 0.9722\n",
            "Epoch 8/10\n",
            "600/600 [==============================] - 3s 5ms/step - loss: 0.1235 - accuracy: 0.9730\n",
            "Epoch 9/10\n",
            "600/600 [==============================] - 3s 5ms/step - loss: 0.1155 - accuracy: 0.9766\n",
            "Epoch 10/10\n",
            "600/600 [==============================] - 3s 5ms/step - loss: 0.1078 - accuracy: 0.9769\n",
            "313/313 [==============================] - 1s 2ms/step - loss: 0.2650 - accuracy: 0.9665\n"
          ]
        },
        {
          "output_type": "execute_result",
          "data": {
            "text/plain": [
              "[0.2649996876716614, 0.9664999842643738]"
            ]
          },
          "metadata": {},
          "execution_count": 25
        }
      ]
    },
    {
      "cell_type": "code",
      "source": [
        "aModel= keras.Sequential([\n",
        "    keras.Input(28*28),\n",
        "    keras.layers.Dense(150, activation= 'relu'), \n",
        "    keras.layers.Dense(50,  activation= 'relu'), \n",
        "    keras.layers.Dense(100,  activation= 'softmax')\n",
        "    ])\n",
        "\n",
        "aModel.compile(\n",
        "    loss=     'sparse_categorical_crossentropy',\n",
        "    metrics= ['accuracy']\n",
        "    )\n",
        "\n",
        "aModel.fit(xr1, yr, \n",
        "           epochs= 16, \n",
        "           batch_size= 100)\n",
        "\n",
        "aModel.evaluate(xt1, yt)"
      ],
      "metadata": {
        "colab": {
          "base_uri": "https://localhost:8080/"
        },
        "id": "6zBx3-NEFhzv",
        "outputId": "7a5323dd-e8cd-4688-bb97-a11ec32599bc"
      },
      "execution_count": 27,
      "outputs": [
        {
          "output_type": "stream",
          "name": "stdout",
          "text": [
            "Epoch 1/16\n",
            "600/600 [==============================] - 4s 5ms/step - loss: 1.8706 - accuracy: 0.8455\n",
            "Epoch 2/16\n",
            "600/600 [==============================] - 3s 6ms/step - loss: 0.2989 - accuracy: 0.9295\n",
            "Epoch 3/16\n",
            "600/600 [==============================] - 3s 5ms/step - loss: 0.2199 - accuracy: 0.9463\n",
            "Epoch 4/16\n",
            "600/600 [==============================] - 3s 5ms/step - loss: 0.1829 - accuracy: 0.9566\n",
            "Epoch 5/16\n",
            "600/600 [==============================] - 3s 5ms/step - loss: 0.1635 - accuracy: 0.9611\n",
            "Epoch 6/16\n",
            "600/600 [==============================] - 3s 5ms/step - loss: 0.1468 - accuracy: 0.9647\n",
            "Epoch 7/16\n",
            "600/600 [==============================] - 3s 6ms/step - loss: 0.1352 - accuracy: 0.9688\n",
            "Epoch 8/16\n",
            "600/600 [==============================] - 3s 5ms/step - loss: 0.1287 - accuracy: 0.9710\n",
            "Epoch 9/16\n",
            "600/600 [==============================] - 3s 5ms/step - loss: 0.1178 - accuracy: 0.9727\n",
            "Epoch 10/16\n",
            "600/600 [==============================] - 3s 5ms/step - loss: 0.1146 - accuracy: 0.9746\n",
            "Epoch 11/16\n",
            "600/600 [==============================] - 3s 5ms/step - loss: 0.1104 - accuracy: 0.9761\n",
            "Epoch 12/16\n",
            "600/600 [==============================] - 3s 5ms/step - loss: 0.0997 - accuracy: 0.9777\n",
            "Epoch 13/16\n",
            "600/600 [==============================] - 3s 5ms/step - loss: 0.1027 - accuracy: 0.9785\n",
            "Epoch 14/16\n",
            "600/600 [==============================] - 4s 6ms/step - loss: 0.0896 - accuracy: 0.9804\n",
            "Epoch 15/16\n",
            "600/600 [==============================] - 3s 6ms/step - loss: 0.0900 - accuracy: 0.9809\n",
            "Epoch 16/16\n",
            "600/600 [==============================] - 3s 5ms/step - loss: 0.0899 - accuracy: 0.9816\n",
            "313/313 [==============================] - 1s 2ms/step - loss: 0.2939 - accuracy: 0.9672\n"
          ]
        },
        {
          "output_type": "execute_result",
          "data": {
            "text/plain": [
              "[0.29385557770729065, 0.967199981212616]"
            ]
          },
          "metadata": {},
          "execution_count": 27
        }
      ]
    },
    {
      "cell_type": "code",
      "source": [
        "aModel.summary()\n",
        "\n",
        "keras.utils.plot_model(aModel, \n",
        "    show_shapes= True, \n",
        "    show_layer_activations= True)"
      ],
      "metadata": {
        "colab": {
          "base_uri": "https://localhost:8080/",
          "height": 682
        },
        "id": "tuZsM53hL-hm",
        "outputId": "598ce560-4555-4fbb-e987-588872abab1d"
      },
      "execution_count": 28,
      "outputs": [
        {
          "output_type": "stream",
          "name": "stdout",
          "text": [
            "Model: \"sequential_13\"\n",
            "_________________________________________________________________\n",
            " Layer (type)                Output Shape              Param #   \n",
            "=================================================================\n",
            " dense_37 (Dense)            (None, 150)               117750    \n",
            "                                                                 \n",
            " dense_38 (Dense)            (None, 50)                7550      \n",
            "                                                                 \n",
            " dense_39 (Dense)            (None, 100)               5100      \n",
            "                                                                 \n",
            "=================================================================\n",
            "Total params: 130,400\n",
            "Trainable params: 130,400\n",
            "Non-trainable params: 0\n",
            "_________________________________________________________________\n"
          ]
        },
        {
          "output_type": "execute_result",
          "data": {
            "image/png": "[encoded data removed]",
            "text/plain": [
              "<IPython.core.display.Image object>"
            ]
          },
          "metadata": {},
          "execution_count": 28
        }
      ]
    },
    {
      "cell_type": "markdown",
      "source": [
        "改變dense=10,50,100,150,200\n",
        "還有不斷地改epochs=8,12,16\n",
        "來提高accuracy"
      ],
      "metadata": {
        "id": "u2aGBKqiMQwk"
      }
    }
  ]
}