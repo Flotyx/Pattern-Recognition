{
  "nbformat": 4,
  "nbformat_minor": 0,
  "metadata": {
    "colab": {
      "provenance": []
    },
    "kernelspec": {
      "name": "python3",
      "display_name": "Python 3"
    },
    "language_info": {
      "name": "python"
    }
  },
  "cells": [
    {
      "cell_type": "markdown",
      "source": [
        "All-ones or all-zeros tensors"
      ],
      "metadata": {
        "id": "VN-39PMF367v"
      }
    },
    {
      "cell_type": "code",
      "execution_count": 1,
      "metadata": {
        "colab": {
          "base_uri": "https://localhost:8080/"
        },
        "id": "WUU-Ct8K2n5X",
        "outputId": "adf0ec51-0282-4c2c-c26c-33928b96e8c5"
      },
      "outputs": [
        {
          "output_type": "stream",
          "name": "stdout",
          "text": [
            "tf.Tensor(\n",
            "[[1.]\n",
            " [1.]], shape=(2, 1), dtype=float32)\n"
          ]
        }
      ],
      "source": [
        "import tensorflow as tf\n",
        "x = tf.ones(shape=(2, 1))\n",
        "print(x)"
      ]
    },
    {
      "cell_type": "code",
      "source": [
        "x = tf.zeros(shape=(2, 1))\n",
        "print(x)"
      ],
      "metadata": {
        "colab": {
          "base_uri": "https://localhost:8080/"
        },
        "id": "-6EyB7N62vUS",
        "outputId": "8ef6fa61-c15d-4c07-b0f3-073aabea350b"
      },
      "execution_count": 2,
      "outputs": [
        {
          "output_type": "stream",
          "name": "stdout",
          "text": [
            "tf.Tensor(\n",
            "[[0.]\n",
            " [0.]], shape=(2, 1), dtype=float32)\n"
          ]
        }
      ]
    },
    {
      "cell_type": "markdown",
      "source": [
        "Random tensors"
      ],
      "metadata": {
        "id": "WAhbGgpL3Sen"
      }
    },
    {
      "cell_type": "code",
      "source": [
        "x = tf.random.normal(shape=(3, 1), mean=0., stddev=1.)\n",
        "print(x)"
      ],
      "metadata": {
        "colab": {
          "base_uri": "https://localhost:8080/"
        },
        "id": "3qpi6Fnm3REK",
        "outputId": "9bf75dfc-ec84-4df5-8e66-6f9e4b4f7019"
      },
      "execution_count": 3,
      "outputs": [
        {
          "output_type": "stream",
          "name": "stdout",
          "text": [
            "tf.Tensor(\n",
            "[[ 1.7352524]\n",
            " [ 1.4350421]\n",
            " [-0.591045 ]], shape=(3, 1), dtype=float32)\n"
          ]
        }
      ]
    },
    {
      "cell_type": "code",
      "source": [
        "x = tf.random.uniform(shape=(3, 1), minval=0., maxval=1.)\n",
        "print(x)"
      ],
      "metadata": {
        "colab": {
          "base_uri": "https://localhost:8080/"
        },
        "id": "e3KDn7eP3jFj",
        "outputId": "94d8d08f-6075-46d3-c934-29f7febb3629"
      },
      "execution_count": 4,
      "outputs": [
        {
          "output_type": "stream",
          "name": "stdout",
          "text": [
            "tf.Tensor(\n",
            "[[0.46210277]\n",
            " [0.80768645]\n",
            " [0.5910319 ]], shape=(3, 1), dtype=float32)\n"
          ]
        }
      ]
    },
    {
      "cell_type": "markdown",
      "source": [
        "NumPy arrays are assignable"
      ],
      "metadata": {
        "id": "Z643UDAL4BHr"
      }
    },
    {
      "cell_type": "code",
      "source": [
        "import numpy as np\n",
        "x = np.ones(shape=(2, 2))\n",
        "x[0, 0] = 0."
      ],
      "metadata": {
        "id": "onV4oRBK3jUN"
      },
      "execution_count": 5,
      "outputs": []
    },
    {
      "cell_type": "markdown",
      "source": [
        "Creating a TensorFlow variable"
      ],
      "metadata": {
        "id": "ugXr9siI4EYb"
      }
    },
    {
      "cell_type": "code",
      "source": [
        "v = tf.Variable(initial_value=tf.random.normal(shape=(3, 1)))\n",
        "print(v)"
      ],
      "metadata": {
        "colab": {
          "base_uri": "https://localhost:8080/"
        },
        "id": "plxd2d-43jXK",
        "outputId": "fbc7a642-d892-4b5c-de3b-d9d4c2571161"
      },
      "execution_count": 6,
      "outputs": [
        {
          "output_type": "stream",
          "name": "stdout",
          "text": [
            "<tf.Variable 'Variable:0' shape=(3, 1) dtype=float32, numpy=\n",
            "array([[-2.637715  ],\n",
            "       [-0.9896214 ],\n",
            "       [-0.50998145]], dtype=float32)>\n"
          ]
        }
      ]
    },
    {
      "cell_type": "markdown",
      "source": [
        "Assigning a value to a TensorFlow variable"
      ],
      "metadata": {
        "id": "kOFaHKS64GO4"
      }
    },
    {
      "cell_type": "code",
      "source": [
        "v.assign(tf.ones((3, 1)))"
      ],
      "metadata": {
        "colab": {
          "base_uri": "https://localhost:8080/"
        },
        "id": "Tz-5ZOTF3jZv",
        "outputId": "b3f36def-3b15-4ed9-ba94-ae0031a1e127"
      },
      "execution_count": 7,
      "outputs": [
        {
          "output_type": "execute_result",
          "data": {
            "text/plain": [
              "<tf.Variable 'UnreadVariable' shape=(3, 1) dtype=float32, numpy=\n",
              "array([[1.],\n",
              "       [1.],\n",
              "       [1.]], dtype=float32)>"
            ]
          },
          "metadata": {},
          "execution_count": 7
        }
      ]
    },
    {
      "cell_type": "markdown",
      "source": [
        "Assigning a value to a subset of a TensorFlow variable"
      ],
      "metadata": {
        "id": "HEJvbYHz4WxN"
      }
    },
    {
      "cell_type": "code",
      "source": [
        "v[0, 0].assign(3.)"
      ],
      "metadata": {
        "colab": {
          "base_uri": "https://localhost:8080/"
        },
        "id": "05BNIcIF3jbb",
        "outputId": "c43e7688-ef11-4d5d-9ce7-44bf0f7170af"
      },
      "execution_count": 8,
      "outputs": [
        {
          "output_type": "execute_result",
          "data": {
            "text/plain": [
              "<tf.Variable 'UnreadVariable' shape=(3, 1) dtype=float32, numpy=\n",
              "array([[3.],\n",
              "       [1.],\n",
              "       [1.]], dtype=float32)>"
            ]
          },
          "metadata": {},
          "execution_count": 8
        }
      ]
    },
    {
      "cell_type": "markdown",
      "source": [
        "Using assign_add"
      ],
      "metadata": {
        "id": "Dth9v6CY3vtQ"
      }
    },
    {
      "cell_type": "code",
      "source": [
        "v.assign_add(tf.ones((3, 1)))"
      ],
      "metadata": {
        "colab": {
          "base_uri": "https://localhost:8080/"
        },
        "id": "PDEnT2E-3jeS",
        "outputId": "c40d2b5a-4f58-49ad-84d7-a79f577fc44a"
      },
      "execution_count": 9,
      "outputs": [
        {
          "output_type": "execute_result",
          "data": {
            "text/plain": [
              "<tf.Variable 'UnreadVariable' shape=(3, 1) dtype=float32, numpy=\n",
              "array([[4.],\n",
              "       [2.],\n",
              "       [2.]], dtype=float32)>"
            ]
          },
          "metadata": {},
          "execution_count": 9
        }
      ]
    },
    {
      "cell_type": "markdown",
      "source": [
        "Tensor operations: Doing math in TensorFlow"
      ],
      "metadata": {
        "id": "k57iQb5K4bHG"
      }
    },
    {
      "cell_type": "markdown",
      "source": [
        "A few basic math **operations**"
      ],
      "metadata": {
        "id": "7x_Rsr7K4gAZ"
      }
    },
    {
      "cell_type": "code",
      "source": [
        "a = tf.ones((2, 2))\n",
        "b = tf.square(a)\n",
        "c = tf.sqrt(a)\n",
        "d = b + c\n",
        "e = tf.matmul(a, b)\n",
        "e *= d"
      ],
      "metadata": {
        "id": "mVMje5jU3jgm"
      },
      "execution_count": 10,
      "outputs": []
    },
    {
      "cell_type": "markdown",
      "source": [
        "A second look at the GradientTape API"
      ],
      "metadata": {
        "id": "Cufn9brW4kSF"
      }
    },
    {
      "cell_type": "markdown",
      "source": [
        "Using the **GradientTape**"
      ],
      "metadata": {
        "id": "oWevOR8W4lLw"
      }
    },
    {
      "cell_type": "code",
      "source": [
        "input_var = tf.Variable(initial_value=3.)\n",
        "with tf.GradientTape() as tape:\n",
        "   result = tf.square(input_var)\n",
        "gradient = tape.gradient(result, input_var)"
      ],
      "metadata": {
        "id": "QXgnmvAr3jjj"
      },
      "execution_count": 11,
      "outputs": []
    },
    {
      "cell_type": "markdown",
      "source": [
        "Using GradientTape with constant tensor **inputs**"
      ],
      "metadata": {
        "id": "AQbxusDQ4qtj"
      }
    },
    {
      "cell_type": "code",
      "source": [
        "input_const = tf.constant(3.)\n",
        "with tf.GradientTape() as tape:\n",
        "   tape.watch(input_const)\n",
        "   result = tf.square(input_const)\n",
        "gradient = tape.gradient(result, input_const)"
      ],
      "metadata": {
        "id": "_lZ4b8K24m1n"
      },
      "execution_count": 12,
      "outputs": []
    },
    {
      "cell_type": "markdown",
      "source": [
        "Using nested gradient tapes to compute second-order **gradients**"
      ],
      "metadata": {
        "id": "ahtI4gBH4uya"
      }
    },
    {
      "cell_type": "code",
      "source": [
        "time = tf.Variable(0.)\n",
        "with tf.GradientTape() as outer_tape:\n",
        "    with tf.GradientTape() as inner_tape:\n",
        "        position =  4.9 * time ** 2\n",
        "    speed = inner_tape.gradient(position, time)\n",
        "acceleration = outer_tape.gradient(speed, time)"
      ],
      "metadata": {
        "id": "QtBos_vi3jmB"
      },
      "execution_count": 13,
      "outputs": []
    },
    {
      "cell_type": "markdown",
      "source": [
        "An end-to-end example: A linear classifier in pure TensorFlow"
      ],
      "metadata": {
        "id": "ImGY291c4ycI"
      }
    },
    {
      "cell_type": "markdown",
      "source": [
        "Generating two classes of random points in a 2D **plane**"
      ],
      "metadata": {
        "id": "Z3h2vF6D40QA"
      }
    },
    {
      "cell_type": "code",
      "source": [
        "num_samples_per_class = 1000\n",
        "negative_samples = np.random.multivariate_normal(\n",
        "    mean=[0, 3],\n",
        "    cov=[[1, 0.5],[0.5, 1]],\n",
        "    size=num_samples_per_class)\n",
        "positive_samples = np.random.multivariate_normal(\n",
        "    mean=[3, 0],\n",
        "    cov=[[1, 0.5],[0.5, 1]],\n",
        "    size=num_samples_per_class)"
      ],
      "metadata": {
        "id": "yaOVXhKI3joa"
      },
      "execution_count": 14,
      "outputs": []
    },
    {
      "cell_type": "markdown",
      "source": [
        "**Stacking the two classes into an array with shape (2000, 2)**"
      ],
      "metadata": {
        "id": "rQy9eY8V43QI"
      }
    },
    {
      "cell_type": "code",
      "source": [
        "inputs = np.vstack((negative_samples, positive_samples)).astype(np.float32)"
      ],
      "metadata": {
        "id": "LOW_hGp43jqx"
      },
      "execution_count": 15,
      "outputs": []
    },
    {
      "cell_type": "markdown",
      "source": [
        "Generating the corresponding targets (0 and 1)"
      ],
      "metadata": {
        "id": "bX9slkM-5D70"
      }
    },
    {
      "cell_type": "code",
      "source": [
        "targets = np.vstack((np.zeros((num_samples_per_class, 1), dtype=\"float32\"),\n",
        "                     np.ones((num_samples_per_class, 1), dtype=\"float32\")))"
      ],
      "metadata": {
        "id": "Qqn7abES3jtT"
      },
      "execution_count": 16,
      "outputs": []
    },
    {
      "cell_type": "markdown",
      "source": [
        "**Plotting the two point classes**"
      ],
      "metadata": {
        "id": "-TcYnYHp5AZ6"
      }
    },
    {
      "cell_type": "code",
      "source": [
        "import matplotlib.pyplot as plt\n",
        "plt.scatter(inputs[:, 0], inputs[:, 1], c=targets[:, 0])\n",
        "plt.show()"
      ],
      "metadata": {
        "colab": {
          "base_uri": "https://localhost:8080/",
          "height": 267
        },
        "id": "elZMfJUS3jvL",
        "outputId": "5cbd517f-8c1a-4bdb-94cd-f80690a729ae"
      },
      "execution_count": 17,
      "outputs": [
        {
          "output_type": "display_data",
          "data": {
            "text/plain": [
              "<Figure size 432x288 with 1 Axes>"
            ],
            "image/png": "[encoded data removed]"
          },
          "metadata": {
            "needs_background": "light"
          }
        }
      ]
    },
    {
      "cell_type": "markdown",
      "source": [
        "**Creating the linear classifier variables**"
      ],
      "metadata": {
        "id": "kHf0C_x-5Roc"
      }
    },
    {
      "cell_type": "code",
      "source": [
        "input_dim = 2\n",
        "output_dim = 1\n",
        "W = tf.Variable(initial_value=tf.random.uniform(shape=(input_dim, output_dim)))\n",
        "b = tf.Variable(initial_value=tf.zeros(shape=(output_dim,)))"
      ],
      "metadata": {
        "id": "J070UCmH3j11"
      },
      "execution_count": 18,
      "outputs": []
    },
    {
      "cell_type": "markdown",
      "source": [
        "\n",
        "\n",
        "**The forward pass function**"
      ],
      "metadata": {
        "id": "hoRZt5l55W4U"
      }
    },
    {
      "cell_type": "code",
      "source": [
        "def model(inputs):\n",
        "    return tf.matmul(inputs, W) + b"
      ],
      "metadata": {
        "id": "Z5sJKc9c3j4K"
      },
      "execution_count": 19,
      "outputs": []
    },
    {
      "cell_type": "markdown",
      "source": [
        "**The mean squared error loss function**"
      ],
      "metadata": {
        "id": "816Q-MkY5koG"
      }
    },
    {
      "cell_type": "code",
      "source": [
        "def square_loss(targets, predictions):\n",
        "    per_sample_losses = tf.square(targets - predictions)\n",
        "    return tf.reduce_mean(per_sample_losses)"
      ],
      "metadata": {
        "id": "F4DcKtS05WaA"
      },
      "execution_count": 20,
      "outputs": []
    },
    {
      "cell_type": "markdown",
      "source": [
        "**The training step function**"
      ],
      "metadata": {
        "id": "cDfFG4Zn5n6M"
      }
    },
    {
      "cell_type": "code",
      "source": [
        "learning_rate = 0.1\n",
        "\n",
        "def training_step(inputs, targets):\n",
        "    with tf.GradientTape() as tape:\n",
        "        predictions = model(inputs)\n",
        "        loss = square_loss(targets, predictions)\n",
        "    grad_loss_wrt_W, grad_loss_wrt_b = tape.gradient(loss, [W, b])\n",
        "    W.assign_sub(grad_loss_wrt_W * learning_rate)\n",
        "    b.assign_sub(grad_loss_wrt_b * learning_rate)\n",
        "    return loss"
      ],
      "metadata": {
        "id": "WKzqj1_O3j6y"
      },
      "execution_count": 22,
      "outputs": []
    },
    {
      "cell_type": "markdown",
      "source": [
        "**The batch training loop**"
      ],
      "metadata": {
        "id": "nZHVpAh65uM7"
      }
    },
    {
      "cell_type": "code",
      "source": [
        "for step in range(40):\n",
        "    loss = training_step(inputs, targets)\n",
        "    print(f\"Loss at step {step}: {loss:.4f}\")"
      ],
      "metadata": {
        "colab": {
          "base_uri": "https://localhost:8080/"
        },
        "id": "YMfjPe_U3j8z",
        "outputId": "c6d95f30-68b8-4a4b-fbbd-32c3c16780e8"
      },
      "execution_count": 23,
      "outputs": [
        {
          "output_type": "stream",
          "name": "stdout",
          "text": [
            "Loss at step 0: 3.7259\n",
            "Loss at step 1: 0.6184\n",
            "Loss at step 2: 0.2032\n",
            "Loss at step 3: 0.1405\n",
            "Loss at step 4: 0.1246\n",
            "Loss at step 5: 0.1154\n",
            "Loss at step 6: 0.1077\n",
            "Loss at step 7: 0.1007\n",
            "Loss at step 8: 0.0943\n",
            "Loss at step 9: 0.0885\n",
            "Loss at step 10: 0.0832\n",
            "Loss at step 11: 0.0783\n",
            "Loss at step 12: 0.0738\n",
            "Loss at step 13: 0.0697\n",
            "Loss at step 14: 0.0659\n",
            "Loss at step 15: 0.0625\n",
            "Loss at step 16: 0.0593\n",
            "Loss at step 17: 0.0565\n",
            "Loss at step 18: 0.0538\n",
            "Loss at step 19: 0.0514\n",
            "Loss at step 20: 0.0492\n",
            "Loss at step 21: 0.0471\n",
            "Loss at step 22: 0.0453\n",
            "Loss at step 23: 0.0436\n",
            "Loss at step 24: 0.0420\n",
            "Loss at step 25: 0.0406\n",
            "Loss at step 26: 0.0393\n",
            "Loss at step 27: 0.0381\n",
            "Loss at step 28: 0.0370\n",
            "Loss at step 29: 0.0359\n",
            "Loss at step 30: 0.0350\n",
            "Loss at step 31: 0.0342\n",
            "Loss at step 32: 0.0334\n",
            "Loss at step 33: 0.0327\n",
            "Loss at step 34: 0.0320\n",
            "Loss at step 35: 0.0314\n",
            "Loss at step 36: 0.0309\n",
            "Loss at step 37: 0.0304\n",
            "Loss at step 38: 0.0299\n",
            "Loss at step 39: 0.0295\n"
          ]
        }
      ]
    },
    {
      "cell_type": "code",
      "source": [
        "predictions = model(inputs)\n",
        "plt.scatter(inputs[:, 0], inputs[:, 1], c=predictions[:, 0] > 0.5)\n",
        "plt.show()"
      ],
      "metadata": {
        "colab": {
          "base_uri": "https://localhost:8080/",
          "height": 267
        },
        "id": "DpeeOZ993j_G",
        "outputId": "82b36292-2588-4b13-de88-77d6a9177ef8"
      },
      "execution_count": 24,
      "outputs": [
        {
          "output_type": "display_data",
          "data": {
            "text/plain": [
              "<Figure size 432x288 with 1 Axes>"
            ],
            "image/png": "[encoded data removed]"
          },
          "metadata": {
            "needs_background": "light"
          }
        }
      ]
    },
    {
      "cell_type": "code",
      "source": [
        "x = np.linspace(-1, 4, 100)\n",
        "y = - W[0] /  W[1] * x + (0.5 - b) / W[1]\n",
        "plt.plot(x, y, \"-r\")\n",
        "plt.scatter(inputs[:, 0], inputs[:, 1], c=predictions[:, 0] > 0.5)"
      ],
      "metadata": {
        "colab": {
          "base_uri": "https://localhost:8080/",
          "height": 284
        },
        "id": "Xs7kzeyv3kBo",
        "outputId": "d037d595-b527-4934-8732-2d118c22ddd6"
      },
      "execution_count": 25,
      "outputs": [
        {
          "output_type": "execute_result",
          "data": {
            "text/plain": [
              "<matplotlib.collections.PathCollection at 0x7f6e5e9baf90>"
            ]
          },
          "metadata": {},
          "execution_count": 25
        },
        {
          "output_type": "display_data",
          "data": {
            "text/plain": [
              "<Figure size 432x288 with 1 Axes>"
            ],
            "image/png": "[encoded data removed]"
          },
          "metadata": {
            "needs_background": "light"
          }
        }
      ]
    },
    {
      "cell_type": "markdown",
      "source": [
        "## Anatomy of a neural network: Understanding core Keras APIs"
      ],
      "metadata": {
        "id": "L4bj_ChL53p6"
      }
    },
    {
      "cell_type": "markdown",
      "source": [
        "# Layers: The building blocks of deep learning"
      ],
      "metadata": {
        "id": "FqIvw3lD575B"
      }
    },
    {
      "cell_type": "markdown",
      "source": [
        "**The base Layer class in Keras**"
      ],
      "metadata": {
        "id": "FE5M4g-55-7m"
      }
    },
    {
      "cell_type": "markdown",
      "source": [
        "**A Dense layer implemented as a Layer subclass**"
      ],
      "metadata": {
        "id": "E7jbzF7j6DmD"
      }
    },
    {
      "cell_type": "code",
      "source": [
        "from tensorflow import keras\n",
        "\n",
        "class SimpleDense(keras.layers.Layer):\n",
        "\n",
        "    def __init__(self, units, activation=None):\n",
        "        super().__init__()\n",
        "        self.units = units\n",
        "        self.activation = activation\n",
        "\n",
        "    def build(self, input_shape):\n",
        "        input_dim = input_shape[-1]\n",
        "        self.W = self.add_weight(shape=(input_dim, self.units),\n",
        "                                 initializer=\"random_normal\")\n",
        "        self.b = self.add_weight(shape=(self.units,),\n",
        "                                 initializer=\"zeros\")\n",
        "\n",
        "    def call(self, inputs):\n",
        "        y = tf.matmul(inputs, self.W) + self.b\n",
        "        if self.activation is not None:\n",
        "            y = self.activation(y)\n",
        "        return y"
      ],
      "metadata": {
        "id": "LFMDTzXz3kDe"
      },
      "execution_count": 26,
      "outputs": []
    },
    {
      "cell_type": "code",
      "source": [
        "my_dense = SimpleDense(units=32, activation=tf.nn.relu)\n",
        "input_tensor = tf.ones(shape=(2, 784))\n",
        "output_tensor = my_dense(input_tensor)\n",
        "print(output_tensor.shape)"
      ],
      "metadata": {
        "colab": {
          "base_uri": "https://localhost:8080/"
        },
        "id": "Rtoqn4e83kGV",
        "outputId": "f6cda2e1-9bbc-48fe-cb9f-64fc22f5eab2"
      },
      "execution_count": 27,
      "outputs": [
        {
          "output_type": "stream",
          "name": "stdout",
          "text": [
            "(2, 32)\n"
          ]
        }
      ]
    },
    {
      "cell_type": "markdown",
      "source": [
        "**Automatic shape inference: Building layers on the fly**"
      ],
      "metadata": {
        "id": "aTQN5qD76Lfi"
      }
    },
    {
      "cell_type": "code",
      "source": [
        "from tensorflow.keras import layers\n",
        "layer = layers.Dense(32, activation=\"relu\")"
      ],
      "metadata": {
        "id": "keCn-hkI3kJC"
      },
      "execution_count": 28,
      "outputs": []
    },
    {
      "cell_type": "code",
      "source": [
        "from tensorflow.keras import models\n",
        "from tensorflow.keras import layers\n",
        "model = models.Sequential([\n",
        "    layers.Dense(32, activation=\"relu\"),\n",
        "    layers.Dense(32)\n",
        "])"
      ],
      "metadata": {
        "id": "ctRMZRf83kLj"
      },
      "execution_count": 29,
      "outputs": []
    },
    {
      "cell_type": "code",
      "source": [
        "model = keras.Sequential([\n",
        "    SimpleDense(32, activation=\"relu\"),\n",
        "    SimpleDense(64, activation=\"relu\"),\n",
        "    SimpleDense(32, activation=\"relu\"),\n",
        "    SimpleDense(10, activation=\"softmax\")\n",
        "])"
      ],
      "metadata": {
        "id": "kKoufBpg3kOR"
      },
      "execution_count": 30,
      "outputs": []
    },
    {
      "cell_type": "markdown",
      "source": [
        "# **From layers to models**"
      ],
      "metadata": {
        "id": "U9QWKMdM6RGs"
      }
    },
    {
      "cell_type": "markdown",
      "source": [
        "# The \"compile\" step: Configuring the learning **process**"
      ],
      "metadata": {
        "id": "insgVH7k6Sga"
      }
    },
    {
      "cell_type": "code",
      "source": [
        "model = keras.Sequential([keras.layers.Dense(1)])\n",
        "model.compile(optimizer=\"rmsprop\",\n",
        "              loss=\"mean_squared_error\",\n",
        "              metrics=[\"accuracy\"])"
      ],
      "metadata": {
        "id": "BtlIqLzM6YkL"
      },
      "execution_count": 31,
      "outputs": []
    },
    {
      "cell_type": "code",
      "source": [
        "model.compile(optimizer=keras.optimizers.RMSprop(),\n",
        "              loss=keras.losses.MeanSquaredError(),\n",
        "              metrics=[keras.metrics.BinaryAccuracy()])"
      ],
      "metadata": {
        "id": "3oSgwTBy6d0d"
      },
      "execution_count": 32,
      "outputs": []
    },
    {
      "cell_type": "markdown",
      "source": [
        "# **Picking a loss function**"
      ],
      "metadata": {
        "id": "Uuld9cNA6fK7"
      }
    },
    {
      "cell_type": "markdown",
      "source": [
        "# **Understanding the fit() method**"
      ],
      "metadata": {
        "id": "XoessrCX6izR"
      }
    },
    {
      "cell_type": "markdown",
      "source": [
        "**Calling fit() with NumPy data**"
      ],
      "metadata": {
        "id": "APyqKhXm6nI7"
      }
    },
    {
      "cell_type": "code",
      "source": [
        "history = model.fit(\n",
        "    inputs,\n",
        "    targets,\n",
        "    epochs=5,\n",
        "    batch_size=128\n",
        ")"
      ],
      "metadata": {
        "colab": {
          "base_uri": "https://localhost:8080/"
        },
        "id": "oEy42hLW6rLS",
        "outputId": "24df51d5-c21a-4bfc-ff27-bb988b1d3a49"
      },
      "execution_count": 33,
      "outputs": [
        {
          "output_type": "stream",
          "name": "stdout",
          "text": [
            "Epoch 1/5\n",
            "16/16 [==============================] - 1s 2ms/step - loss: 11.1710 - binary_accuracy: 0.1490\n",
            "Epoch 2/5\n",
            "16/16 [==============================] - 0s 2ms/step - loss: 10.8005 - binary_accuracy: 0.1530\n",
            "Epoch 3/5\n",
            "16/16 [==============================] - 0s 2ms/step - loss: 10.4852 - binary_accuracy: 0.1545\n",
            "Epoch 4/5\n",
            "16/16 [==============================] - 0s 2ms/step - loss: 10.1807 - binary_accuracy: 0.1575\n",
            "Epoch 5/5\n",
            "16/16 [==============================] - 0s 2ms/step - loss: 9.8835 - binary_accuracy: 0.1615\n"
          ]
        }
      ]
    },
    {
      "cell_type": "code",
      "source": [
        "history.history"
      ],
      "metadata": {
        "colab": {
          "base_uri": "https://localhost:8080/"
        },
        "id": "ex4-K-Zy6tIq",
        "outputId": "aa0bbf44-4580-4814-d5bf-3dfc359e9e75"
      },
      "execution_count": 34,
      "outputs": [
        {
          "output_type": "execute_result",
          "data": {
            "text/plain": [
              "{'loss': [11.170995712280273,\n",
              "  10.800537109375,\n",
              "  10.48518180847168,\n",
              "  10.180685997009277,\n",
              "  9.883536338806152],\n",
              " 'binary_accuracy': [0.14900000393390656,\n",
              "  0.15299999713897705,\n",
              "  0.15449999272823334,\n",
              "  0.1574999988079071,\n",
              "  0.1615000069141388]}"
            ]
          },
          "metadata": {},
          "execution_count": 34
        }
      ]
    },
    {
      "cell_type": "markdown",
      "source": [
        "# **Monitoring loss and metrics on validation data**"
      ],
      "metadata": {
        "id": "owvcYiyT6uij"
      }
    },
    {
      "cell_type": "markdown",
      "source": [
        "**Using the validation_data argument**"
      ],
      "metadata": {
        "id": "e_bGeYbj6wSJ"
      }
    },
    {
      "cell_type": "code",
      "source": [
        "model = keras.Sequential([keras.layers.Dense(1)])\n",
        "model.compile(optimizer=keras.optimizers.RMSprop(learning_rate=0.1),\n",
        "              loss=keras.losses.MeanSquaredError(),\n",
        "              metrics=[keras.metrics.BinaryAccuracy()])\n",
        "\n",
        "indices_permutation = np.random.permutation(len(inputs))\n",
        "shuffled_inputs = inputs[indices_permutation]\n",
        "shuffled_targets = targets[indices_permutation]\n",
        "\n",
        "num_validation_samples = int(0.3 * len(inputs))\n",
        "val_inputs = shuffled_inputs[:num_validation_samples]\n",
        "val_targets = shuffled_targets[:num_validation_samples]\n",
        "training_inputs = shuffled_inputs[num_validation_samples:]\n",
        "training_targets = shuffled_targets[num_validation_samples:]\n",
        "model.fit(\n",
        "    training_inputs,\n",
        "    training_targets,\n",
        "    epochs=5,\n",
        "    batch_size=16,\n",
        "    validation_data=(val_inputs, val_targets)\n",
        ")"
      ],
      "metadata": {
        "colab": {
          "base_uri": "https://localhost:8080/"
        },
        "id": "HI8sAPmF6zXd",
        "outputId": "c87a7d1d-9fbc-4a21-f031-08cf5bca3d22"
      },
      "execution_count": 35,
      "outputs": [
        {
          "output_type": "stream",
          "name": "stdout",
          "text": [
            "Epoch 1/5\n",
            "88/88 [==============================] - 1s 4ms/step - loss: 0.2191 - binary_accuracy: 0.9000 - val_loss: 0.0882 - val_binary_accuracy: 0.9767\n",
            "Epoch 2/5\n",
            "88/88 [==============================] - 0s 2ms/step - loss: 0.0700 - binary_accuracy: 0.9650 - val_loss: 0.0312 - val_binary_accuracy: 0.9967\n",
            "Epoch 3/5\n",
            "88/88 [==============================] - 0s 2ms/step - loss: 0.0740 - binary_accuracy: 0.9564 - val_loss: 0.2056 - val_binary_accuracy: 0.7533\n",
            "Epoch 4/5\n",
            "88/88 [==============================] - 0s 2ms/step - loss: 0.0773 - binary_accuracy: 0.9521 - val_loss: 0.0665 - val_binary_accuracy: 0.9633\n",
            "Epoch 5/5\n",
            "88/88 [==============================] - 0s 2ms/step - loss: 0.0674 - binary_accuracy: 0.9629 - val_loss: 0.1047 - val_binary_accuracy: 0.8800\n"
          ]
        },
        {
          "output_type": "execute_result",
          "data": {
            "text/plain": [
              "<keras.callbacks.History at 0x7f6e5cda5ad0>"
            ]
          },
          "metadata": {},
          "execution_count": 35
        }
      ]
    },
    {
      "cell_type": "markdown",
      "source": [
        "# **Inference: Using a model after training**"
      ],
      "metadata": {
        "id": "bSR8Qj2T607e"
      }
    },
    {
      "cell_type": "code",
      "source": [
        "predictions = model.predict(val_inputs, batch_size=128)\n",
        "print(predictions[:10])"
      ],
      "metadata": {
        "colab": {
          "base_uri": "https://localhost:8080/"
        },
        "id": "lF3-zvgW621G",
        "outputId": "b2ba926e-daa6-4c35-aad9-f3b3de1fcbc5"
      },
      "execution_count": 36,
      "outputs": [
        {
          "output_type": "stream",
          "name": "stdout",
          "text": [
            "[[-0.27846602]\n",
            " [ 0.46711746]\n",
            " [-0.09704545]\n",
            " [ 0.7813443 ]\n",
            " [ 0.24148893]\n",
            " [-0.34443375]\n",
            " [ 0.7380065 ]\n",
            " [-0.13705596]\n",
            " [ 0.01840425]\n",
            " [-0.12981859]]\n"
          ]
        }
      ]
    }
  ]
}